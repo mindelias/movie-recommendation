{
 "cells": [
  {
   "cell_type": "code",
   "execution_count": 2,
   "metadata": {},
   "outputs": [],
   "source": [
    "import pandas as pd\n",
    "import numpy as np\n",
    "import seaborn as sns\n",
    "import matplotlib.pyplot as plt\n",
    "%matplotlib inline"
   ]
  },
  {
   "cell_type": "markdown",
   "metadata": {},
   "source": [
    "## Step 1: Data Loading and Overview¶"
   ]
  },
  {
   "cell_type": "markdown",
   "metadata": {},
   "source": [
    "### 1.1 Load the Data"
   ]
  },
  {
   "cell_type": "code",
   "execution_count": 7,
   "metadata": {},
   "outputs": [
    {
     "data": {
      "text/html": [
       "<div>\n",
       "<style scoped>\n",
       "    .dataframe tbody tr th:only-of-type {\n",
       "        vertical-align: middle;\n",
       "    }\n",
       "\n",
       "    .dataframe tbody tr th {\n",
       "        vertical-align: top;\n",
       "    }\n",
       "\n",
       "    .dataframe thead th {\n",
       "        text-align: right;\n",
       "    }\n",
       "</style>\n",
       "<table border=\"1\" class=\"dataframe\">\n",
       "  <thead>\n",
       "    <tr style=\"text-align: right;\">\n",
       "      <th></th>\n",
       "      <th>movieId</th>\n",
       "      <th>title</th>\n",
       "      <th>genres</th>\n",
       "      <th>imdbId</th>\n",
       "      <th>tmdbId</th>\n",
       "      <th>userId</th>\n",
       "      <th>rating</th>\n",
       "      <th>timestamp</th>\n",
       "    </tr>\n",
       "  </thead>\n",
       "  <tbody>\n",
       "    <tr>\n",
       "      <th>0</th>\n",
       "      <td>1</td>\n",
       "      <td>Toy Story (1995)</td>\n",
       "      <td>Adventure|Animation|Children|Comedy|Fantasy</td>\n",
       "      <td>114709</td>\n",
       "      <td>862.0</td>\n",
       "      <td>1.0</td>\n",
       "      <td>4.0</td>\n",
       "      <td>9.649827e+08</td>\n",
       "    </tr>\n",
       "    <tr>\n",
       "      <th>1</th>\n",
       "      <td>1</td>\n",
       "      <td>Toy Story (1995)</td>\n",
       "      <td>Adventure|Animation|Children|Comedy|Fantasy</td>\n",
       "      <td>114709</td>\n",
       "      <td>862.0</td>\n",
       "      <td>5.0</td>\n",
       "      <td>4.0</td>\n",
       "      <td>8.474350e+08</td>\n",
       "    </tr>\n",
       "    <tr>\n",
       "      <th>2</th>\n",
       "      <td>1</td>\n",
       "      <td>Toy Story (1995)</td>\n",
       "      <td>Adventure|Animation|Children|Comedy|Fantasy</td>\n",
       "      <td>114709</td>\n",
       "      <td>862.0</td>\n",
       "      <td>7.0</td>\n",
       "      <td>4.5</td>\n",
       "      <td>1.106636e+09</td>\n",
       "    </tr>\n",
       "    <tr>\n",
       "      <th>3</th>\n",
       "      <td>1</td>\n",
       "      <td>Toy Story (1995)</td>\n",
       "      <td>Adventure|Animation|Children|Comedy|Fantasy</td>\n",
       "      <td>114709</td>\n",
       "      <td>862.0</td>\n",
       "      <td>15.0</td>\n",
       "      <td>2.5</td>\n",
       "      <td>1.510578e+09</td>\n",
       "    </tr>\n",
       "    <tr>\n",
       "      <th>4</th>\n",
       "      <td>1</td>\n",
       "      <td>Toy Story (1995)</td>\n",
       "      <td>Adventure|Animation|Children|Comedy|Fantasy</td>\n",
       "      <td>114709</td>\n",
       "      <td>862.0</td>\n",
       "      <td>17.0</td>\n",
       "      <td>4.5</td>\n",
       "      <td>1.305696e+09</td>\n",
       "    </tr>\n",
       "  </tbody>\n",
       "</table>\n",
       "</div>"
      ],
      "text/plain": [
       "   movieId             title                                       genres  \\\n",
       "0        1  Toy Story (1995)  Adventure|Animation|Children|Comedy|Fantasy   \n",
       "1        1  Toy Story (1995)  Adventure|Animation|Children|Comedy|Fantasy   \n",
       "2        1  Toy Story (1995)  Adventure|Animation|Children|Comedy|Fantasy   \n",
       "3        1  Toy Story (1995)  Adventure|Animation|Children|Comedy|Fantasy   \n",
       "4        1  Toy Story (1995)  Adventure|Animation|Children|Comedy|Fantasy   \n",
       "\n",
       "   imdbId  tmdbId  userId  rating     timestamp  \n",
       "0  114709   862.0     1.0     4.0  9.649827e+08  \n",
       "1  114709   862.0     5.0     4.0  8.474350e+08  \n",
       "2  114709   862.0     7.0     4.5  1.106636e+09  \n",
       "3  114709   862.0    15.0     2.5  1.510578e+09  \n",
       "4  114709   862.0    17.0     4.5  1.305696e+09  "
      ]
     },
     "execution_count": 7,
     "metadata": {},
     "output_type": "execute_result"
    }
   ],
   "source": [
    "# load datasets\n",
    "ML_PATH = \"../data/raw/ml-latest-small/\"\n",
    "movies_df = pd.read_csv(f\"{ML_PATH}/movies.csv\")\n",
    "ratings_df = pd.read_csv(f\"{ML_PATH}/ratings.csv\")\n",
    "links_df = pd.read_csv(f\"{ML_PATH}/links.csv\")\n",
    "movies_df.head()\n",
    "ratings_df.head()\n",
    "\n",
    "# merge df\n",
    "df = pd.merge(ratings_df, movies_df, on='movieId')\n",
    "movies_links = pd.merge(movies_df, links_df,   on=\"movieId\", how=\"left\")\n",
    "merged = pd.merge(movies_links, ratings_df, on=\"movieId\", how=\"left\")\n",
    "merged = merged.dropna(subset=[\"tmdbId\"])\n",
    "\n",
    "merged.head()"
   ]
  },
  {
   "cell_type": "markdown",
   "metadata": {},
   "source": [
    "### 1.2  Inspect Data Quality"
   ]
  },
  {
   "cell_type": "code",
   "execution_count": null,
   "metadata": {},
   "outputs": [],
   "source": [
    "movies_df.info()\n",
    "movies_df.isnull().sum()\n",
    "movies_df.duplicated().sum()\n",
    "\n",
    "ratings_df.info()\n",
    "ratings_df.isnull().sum()\n",
    "ratings_df.duplicated().sum()\n"
   ]
  },
  {
   "cell_type": "markdown",
   "metadata": {},
   "source": [
    "## Step 2: Exploratory Visualizations"
   ]
  },
  {
   "cell_type": "code",
   "execution_count": 22,
   "metadata": {},
   "outputs": [
    {
     "data": {
      "image/png": "[encoded data removed]",
      "text/plain": [
       "<Figure size 640x480 with 1 Axes>"
      ]
     },
     "metadata": {},
     "output_type": "display_data"
    }
   ],
   "source": [
    "sns.histplot(df[\"rating\"], bins=10, kde=True)\n",
    "plt.title(\"Distribution of Ratings\")\n",
    "plt.show()"
   ]
  },
  {
   "cell_type": "markdown",
   "metadata": {},
   "source": [
    "### 2.2: Highest-Rated Movies"
   ]
  },
  {
   "cell_type": "code",
   "execution_count": null,
   "metadata": {},
   "outputs": [
    {
     "data": {
      "text/plain": [
       "title\n",
       "'71 (2014)                                                                        1\n",
       "Latter Days (2003)                                                                1\n",
       "Late Shift, The (1996)                                                            1\n",
       "Late Night with Conan O'Brien: The Best of Triumph the Insult Comic Dog (2004)    1\n",
       "Late Night Shopping (2001)                                                        1\n",
       "Late Marriage (Hatuna Meuheret) (2001)                                            1\n",
       "Last of the Dogmen (1995)                                                         1\n",
       "Last Year's Snow Was Falling (1983)                                               1\n",
       "Last Winter, The (2006)                                                           1\n",
       "Last Wedding, The (Kivenpyörittäjän kylä) (1995)                                  1\n",
       "Last Wave, The (1977)                                                             1\n",
       "Last Waltz, The (1978)                                                            1\n",
       "Last Train Home (2009)                                                            1\n",
       "Last Song, The (2010)                                                             1\n",
       "Last Shift (2014)                                                                 1\n",
       "Last Orders (2001)                                                                1\n",
       "Law of Desire (Ley del deseo, La) (1987)                                          1\n",
       "Le Maître d'école (1981)                                                          1\n",
       "League of Ordinary Gentlemen, A (2004)                                            1\n",
       "Ledge, The (2011)                                                                 1\n",
       "Name: rating, dtype: int64"
      ]
     },
     "execution_count": 42,
     "metadata": {},
     "output_type": "execute_result"
    }
   ],
   "source": [
    "rating_counts = df.groupby(\"title\")['rating'].count().sort_values(ascending=False)\n",
    "rating_counts.head(20)"
   ]
  },
  {
   "cell_type": "markdown",
   "metadata": {},
   "source": [
    "### 2.2 Highest-Rated Movies (with a Minimum Threshold)"
   ]
  },
  {
   "cell_type": "code",
   "execution_count": null,
   "metadata": {},
   "outputs": [
    {
     "data": {
      "text/html": [
       "<div>\n",
       "<style scoped>\n",
       "    .dataframe tbody tr th:only-of-type {\n",
       "        vertical-align: middle;\n",
       "    }\n",
       "\n",
       "    .dataframe tbody tr th {\n",
       "        vertical-align: top;\n",
       "    }\n",
       "\n",
       "    .dataframe thead tr th {\n",
       "        text-align: left;\n",
       "    }\n",
       "\n",
       "    .dataframe thead tr:last-of-type th {\n",
       "        text-align: right;\n",
       "    }\n",
       "</style>\n",
       "<table border=\"1\" class=\"dataframe\">\n",
       "  <thead>\n",
       "    <tr>\n",
       "      <th></th>\n",
       "      <th colspan=\"3\" halign=\"left\">rating</th>\n",
       "    </tr>\n",
       "    <tr>\n",
       "      <th></th>\n",
       "      <th>mean</th>\n",
       "      <th>count</th>\n",
       "      <th>size</th>\n",
       "    </tr>\n",
       "    <tr>\n",
       "      <th>title</th>\n",
       "      <th></th>\n",
       "      <th></th>\n",
       "      <th></th>\n",
       "    </tr>\n",
       "  </thead>\n",
       "  <tbody>\n",
       "    <tr>\n",
       "      <th>Forrest Gump (1994)</th>\n",
       "      <td>4.164134</td>\n",
       "      <td>329</td>\n",
       "      <td>329</td>\n",
       "    </tr>\n",
       "    <tr>\n",
       "      <th>Shawshank Redemption, The (1994)</th>\n",
       "      <td>4.429022</td>\n",
       "      <td>317</td>\n",
       "      <td>317</td>\n",
       "    </tr>\n",
       "    <tr>\n",
       "      <th>Pulp Fiction (1994)</th>\n",
       "      <td>4.197068</td>\n",
       "      <td>307</td>\n",
       "      <td>307</td>\n",
       "    </tr>\n",
       "    <tr>\n",
       "      <th>Silence of the Lambs, The (1991)</th>\n",
       "      <td>4.161290</td>\n",
       "      <td>279</td>\n",
       "      <td>279</td>\n",
       "    </tr>\n",
       "    <tr>\n",
       "      <th>Matrix, The (1999)</th>\n",
       "      <td>4.192446</td>\n",
       "      <td>278</td>\n",
       "      <td>278</td>\n",
       "    </tr>\n",
       "    <tr>\n",
       "      <th>...</th>\n",
       "      <td>...</td>\n",
       "      <td>...</td>\n",
       "      <td>...</td>\n",
       "    </tr>\n",
       "    <tr>\n",
       "      <th>King Solomon's Mines (1950)</th>\n",
       "      <td>3.000000</td>\n",
       "      <td>1</td>\n",
       "      <td>1</td>\n",
       "    </tr>\n",
       "    <tr>\n",
       "      <th>King Solomon's Mines (1937)</th>\n",
       "      <td>2.500000</td>\n",
       "      <td>1</td>\n",
       "      <td>1</td>\n",
       "    </tr>\n",
       "    <tr>\n",
       "      <th>King Ralph (1991)</th>\n",
       "      <td>1.500000</td>\n",
       "      <td>1</td>\n",
       "      <td>1</td>\n",
       "    </tr>\n",
       "    <tr>\n",
       "      <th>King Kong Lives (1986)</th>\n",
       "      <td>2.000000</td>\n",
       "      <td>1</td>\n",
       "      <td>1</td>\n",
       "    </tr>\n",
       "    <tr>\n",
       "      <th>À nous la liberté (Freedom for Us) (1931)</th>\n",
       "      <td>1.000000</td>\n",
       "      <td>1</td>\n",
       "      <td>1</td>\n",
       "    </tr>\n",
       "  </tbody>\n",
       "</table>\n",
       "<p>9719 rows × 3 columns</p>\n",
       "</div>"
      ],
      "text/plain": [
       "                                             rating           \n",
       "                                               mean count size\n",
       "title                                                         \n",
       "Forrest Gump (1994)                        4.164134   329  329\n",
       "Shawshank Redemption, The (1994)           4.429022   317  317\n",
       "Pulp Fiction (1994)                        4.197068   307  307\n",
       "Silence of the Lambs, The (1991)           4.161290   279  279\n",
       "Matrix, The (1999)                         4.192446   278  278\n",
       "...                                             ...   ...  ...\n",
       "King Solomon's Mines (1950)                3.000000     1    1\n",
       "King Solomon's Mines (1937)                2.500000     1    1\n",
       "King Ralph (1991)                          1.500000     1    1\n",
       "King Kong Lives (1986)                     2.000000     1    1\n",
       "À nous la liberté (Freedom for Us) (1931)  1.000000     1    1\n",
       "\n",
       "[9719 rows x 3 columns]"
      ]
     },
     "execution_count": 58,
     "metadata": {},
     "output_type": "execute_result"
    }
   ],
   "source": [
    "# 1) Group ratings by movie title\n",
    "grouped = merged.groupby(\"title\")[\"rating\"]\n",
    "\n",
    "# 2) Create a new DataFrame with mean rating and rating count\n",
    "aggregate = merged.groupby(\"title\").agg({\n",
    "    \"rating\": [\"mean\", \"count\", \"size\"]\n",
    "\n",
    "})\n",
    "ratings_summary = pd.DataFrame({\n",
    "    \"mean_rating\": grouped.mean(),\n",
    "    \"count\": grouped.count()\n",
    "})\n",
    "\n",
    "# 3) Filter out movies with fewer than 50 ratings\n",
    "ratings_summary = ratings_summary[ratings_summary[\"count\"] > 100]\n",
    "\n",
    "# 4) Sort by mean rating (descending) and take the top 10\n",
    "top_rated = ratings_summary.sort_values(\"mean_rating\", ascending=False).head(10)\n",
    "\n",
    "# top_rated\n",
    "# grouped.head()\n",
    "# ratings_summary.head()\n",
    "aggregate.sort_values(by=('rating', 'count'), ascending=False)\n"
   ]
  },
  {
   "cell_type": "markdown",
   "metadata": {},
   "source": [
    "### Genres Analysis"
   ]
  },
  {
   "cell_type": "code",
   "execution_count": null,
   "metadata": {},
   "outputs": [
    {
     "data": {
      "text/plain": [
       "Counter({'Drama': 41928,\n",
       "         'Comedy': 39053,\n",
       "         'Action': 30635,\n",
       "         'Thriller': 26452,\n",
       "         'Adventure': 24161,\n",
       "         'Romance': 18124,\n",
       "         'Sci-Fi': 17243,\n",
       "         'Crime': 16681,\n",
       "         'Fantasy': 11834,\n",
       "         'Children': 9208,\n",
       "         'Mystery': 7674,\n",
       "         'Horror': 7291,\n",
       "         'Animation': 6988,\n",
       "         'War': 4859,\n",
       "         'IMAX': 4145,\n",
       "         'Musical': 4138,\n",
       "         'Western': 1930,\n",
       "         'Documentary': 1219,\n",
       "         'Film-Noir': 870,\n",
       "         '(no genres listed)': 47})"
      ]
     },
     "execution_count": 52,
     "metadata": {},
     "output_type": "execute_result"
    }
   ],
   "source": [
    "# counting how many times each genre appears\n",
    "from collections import Counter\n",
    "\n",
    "\n",
    "#Code A(option1)\n",
    "# df_exploded = df.assign(\n",
    "#     genre=df[\"genres\"].str.split(\"|\")\n",
    "# ).explode(\"genre\")\n",
    "# genre_counts = df_exploded.groupby(\"genre\")[\"rating\"].count()\n",
    "# genre_counts.sort_values(ascending=False, inplace=True)\n",
    "\n",
    " \n",
    "\n",
    "# CodeB(option2=> simpler and easy to read)\n",
    "# genre_counts.head(10)  \n",
    "merged['genres_list'] =  merged['genres'].apply(lambda x: x.split(\"|\"))\n",
    "all_genres = []\n",
    "for g_list in merged['genres_list']:\n",
    "    all_genres.extend(g_list)\n",
    "     \n",
    "\n",
    "all_genres\n",
    "genres_count = Counter(all_genres)\n",
    "genres_count\n",
    "\n",
    "\n"
   ]
  },
  {
   "cell_type": "markdown",
   "metadata": {},
   "source": [
    "## Typical Rating & User Insights"
   ]
  },
  {
   "cell_type": "markdown",
   "metadata": {},
   "source": [
    "1. Average Rating:"
   ]
  },
  {
   "cell_type": "code",
   "execution_count": null,
   "metadata": {},
   "outputs": [
    {
     "name": "stdout",
     "output_type": "stream",
     "text": [
      "Overall average rating: 3.50\n"
     ]
    }
   ],
   "source": [
    "overall_mean = merged[\"rating\"].mean()\n",
    "print(f\"Overall average rating: {overall_mean:.2f}\")\n"
   ]
  },
  {
   "cell_type": "markdown",
   "metadata": {},
   "source": [
    "2. Number of Unique Users / Movies:"
   ]
  },
  {
   "cell_type": "code",
   "execution_count": 8,
   "metadata": {},
   "outputs": [
    {
     "name": "stdout",
     "output_type": "stream",
     "text": [
      "Unique Users: 610, Unique Movies: 9733\n"
     ]
    }
   ],
   "source": [
    "n_users = merged[\"userId\"].nunique()\n",
    "n_movies = merged[\"tmdbId\"].nunique()\n",
    "print(f\"Unique Users: {n_users}, Unique Movies: {n_movies}\")\n",
    "\n"
   ]
  },
  {
   "cell_type": "markdown",
   "metadata": {},
   "source": [
    "3. Ratings per User:"
   ]
  },
  {
   "cell_type": "code",
   "execution_count": 9,
   "metadata": {},
   "outputs": [
    {
     "data": {
      "image/png": "[encoded data removed]",
      "text/plain": [
       "<Figure size 640x480 with 1 Axes>"
      ]
     },
     "metadata": {},
     "output_type": "display_data"
    },
    {
     "data": {
      "text/plain": [
       "userId\n",
       "1       232\n",
       "2        29\n",
       "3        39\n",
       "4       216\n",
       "5        44\n",
       "       ... \n",
       "606    1115\n",
       "607     187\n",
       "608     831\n",
       "609      37\n",
       "610    1302\n",
       "Name: rating, Length: 610, dtype: int64"
      ]
     },
     "execution_count": 9,
     "metadata": {},
     "output_type": "execute_result"
    }
   ],
   "source": [
    "user_activity = merged.groupby(\"userId\")[\"rating\"].count()\n",
    "sns.histplot(user_activity, bins=50)\n",
    "plt.title(\"Distribution of Ratings per User\")\n",
    "plt.show()\n",
    "user_activity\n"
   ]
  },
  {
   "cell_type": "code",
   "execution_count": null,
   "metadata": {},
   "outputs": [
    {
     "data": {
      "text/html": [
       "<div>\n",
       "<style scoped>\n",
       "    .dataframe tbody tr th:only-of-type {\n",
       "        vertical-align: middle;\n",
       "    }\n",
       "\n",
       "    .dataframe tbody tr th {\n",
       "        vertical-align: top;\n",
       "    }\n",
       "\n",
       "    .dataframe thead th {\n",
       "        text-align: right;\n",
       "    }\n",
       "</style>\n",
       "<table border=\"1\" class=\"dataframe\">\n",
       "  <thead>\n",
       "    <tr style=\"text-align: right;\">\n",
       "      <th></th>\n",
       "      <th>userId</th>\n",
       "      <th>movieId</th>\n",
       "      <th>rating</th>\n",
       "      <th>timestamp</th>\n",
       "      <th>title</th>\n",
       "      <th>genres</th>\n",
       "      <th>genres_list</th>\n",
       "    </tr>\n",
       "  </thead>\n",
       "  <tbody>\n",
       "    <tr>\n",
       "      <th>0</th>\n",
       "      <td>1</td>\n",
       "      <td>1</td>\n",
       "      <td>4.0</td>\n",
       "      <td>964982703</td>\n",
       "      <td>Toy Story (1995)</td>\n",
       "      <td>Adventure|Animation|Children|Comedy|Fantasy</td>\n",
       "      <td>[Adventure, Animation, Children, Comedy, Fantasy]</td>\n",
       "    </tr>\n",
       "    <tr>\n",
       "      <th>1</th>\n",
       "      <td>1</td>\n",
       "      <td>3</td>\n",
       "      <td>4.0</td>\n",
       "      <td>964981247</td>\n",
       "      <td>Grumpier Old Men (1995)</td>\n",
       "      <td>Comedy|Romance</td>\n",
       "      <td>[Comedy, Romance]</td>\n",
       "    </tr>\n",
       "    <tr>\n",
       "      <th>2</th>\n",
       "      <td>1</td>\n",
       "      <td>6</td>\n",
       "      <td>4.0</td>\n",
       "      <td>964982224</td>\n",
       "      <td>Heat (1995)</td>\n",
       "      <td>Action|Crime|Thriller</td>\n",
       "      <td>[Action, Crime, Thriller]</td>\n",
       "    </tr>\n",
       "    <tr>\n",
       "      <th>3</th>\n",
       "      <td>1</td>\n",
       "      <td>47</td>\n",
       "      <td>5.0</td>\n",
       "      <td>964983815</td>\n",
       "      <td>Seven (a.k.a. Se7en) (1995)</td>\n",
       "      <td>Mystery|Thriller</td>\n",
       "      <td>[Mystery, Thriller]</td>\n",
       "    </tr>\n",
       "    <tr>\n",
       "      <th>4</th>\n",
       "      <td>1</td>\n",
       "      <td>50</td>\n",
       "      <td>5.0</td>\n",
       "      <td>964982931</td>\n",
       "      <td>Usual Suspects, The (1995)</td>\n",
       "      <td>Crime|Mystery|Thriller</td>\n",
       "      <td>[Crime, Mystery, Thriller]</td>\n",
       "    </tr>\n",
       "  </tbody>\n",
       "</table>\n",
       "</div>"
      ],
      "text/plain": [
       "   userId  movieId  rating  timestamp                        title  \\\n",
       "0       1        1     4.0  964982703             Toy Story (1995)   \n",
       "1       1        3     4.0  964981247      Grumpier Old Men (1995)   \n",
       "2       1        6     4.0  964982224                  Heat (1995)   \n",
       "3       1       47     5.0  964983815  Seven (a.k.a. Se7en) (1995)   \n",
       "4       1       50     5.0  964982931   Usual Suspects, The (1995)   \n",
       "\n",
       "                                        genres  \\\n",
       "0  Adventure|Animation|Children|Comedy|Fantasy   \n",
       "1                               Comedy|Romance   \n",
       "2                        Action|Crime|Thriller   \n",
       "3                             Mystery|Thriller   \n",
       "4                       Crime|Mystery|Thriller   \n",
       "\n",
       "                                         genres_list  \n",
       "0  [Adventure, Animation, Children, Comedy, Fantasy]  \n",
       "1                                  [Comedy, Romance]  \n",
       "2                          [Action, Crime, Thriller]  \n",
       "3                                [Mystery, Thriller]  \n",
       "4                         [Crime, Mystery, Thriller]  "
      ]
     },
     "execution_count": 63,
     "metadata": {},
     "output_type": "execute_result"
    }
   ],
   "source": [
    "merged.head()"
   ]
  },
  {
   "cell_type": "markdown",
   "metadata": {},
   "source": [
    "## Example “Teacher” Scenario\n",
    "Let’s say you’re building a brand-new streaming platform. You’ve done EDA and discovered:\n",
    "\n",
    "Global average rating = 3.5\n",
    "\n",
    "Top genres = Drama, Comedy, Action\n",
    "\n",
    "A. Cold Start User\n",
    "Sign-Up: A user just joined, no ratings yet.\n",
    "\n",
    "Initial Suggestions: Your system uses the global average or the top genres to guess that people generally like comedic or action movies. So you show them a curated list of well-rated comedic or action titles.\n",
    "\n",
    "User Feedback: The user rates a few movies. If they rate comedies highly, you reinforce that preference. If they rate action low, you pivot away from action.\n",
    "\n",
    "B. Seasoned User\n",
    "Has Ratings: This user has rated 30 movies, mostly action flicks at 4.0+ stars.\n",
    "\n",
    "Refine: The model sees they’re an “action fan” and also knows from the global distribution that action movies are quite popular. So the system surfaces more action recommendations.\n",
    "\n",
    "But: If the user tries a Drama with a 4.5 rating, your model might cross-reference other users who liked both Drama and Action, discovering new sub-genre patterns (e.g., “Action Thriller” or “Sci-Fi Action”).\n",
    "\n",
    "In both cases, your EDA findings shape default assumptions and guide the model on how to handle new or partial data."
   ]
  },
  {
   "cell_type": "markdown",
   "metadata": {},
   "source": [
    "## Identify & Remove True Duplicates"
   ]
  },
  {
   "cell_type": "code",
   "execution_count": 10,
   "metadata": {},
   "outputs": [
    {
     "name": "stdout",
     "output_type": "stream",
     "text": [
      "Duplicates found:\n",
      " Empty DataFrame\n",
      "Columns: [movieId, title, genres, imdbId, tmdbId, userId, rating, timestamp]\n",
      "Index: []\n"
     ]
    }
   ],
   "source": [
    "# 1) Identify rows where userId & movieId appear more than once\n",
    "duplicates = merged[merged.duplicated(subset=[\"userId\", \"movieId\"], keep=False)]\n",
    "\n",
    "# If duplicates is empty, it means you have no repeated pairs\n",
    "print(\"Duplicates found:\\n\", duplicates.head())\n",
    "\n",
    "# 2) If you decide to remove duplicates, you typically keep='first' or keep='last'\n",
    "#    Here, we keep the FIRST occurrence and drop subsequent duplicates\n",
    "df.drop_duplicates(subset=[\"userId\", \"movieId\"], keep=\"first\", inplace=True)\n"
   ]
  },
  {
   "cell_type": "markdown",
   "metadata": {},
   "source": [
    "## Filter Out Users with Fewer Than 10 Ratings"
   ]
  },
  {
   "cell_type": "code",
   "execution_count": null,
   "metadata": {},
   "outputs": [],
   "source": [
    "# Count how many ratings each user has\n",
    "user_activity = merged.groupby(\"userId\")[\"rating\"].count()\n",
    "\n",
    "# Identify \"active\" users who have rated >= 10 movies\n",
    "active_users = user_activity[user_activity >= 10].index\n",
    "\n",
    "# Filter the DataFrame to only those users\n",
    "filtered_df = merged[merged[\"userId\"].isin(active_users)]\n",
    "\n",
    "filtered_df\n",
    "filtered_df.to_csv(\"../data/processed/ratings_filtered.csv\", index=False)\n",
    "\n",
    "\n"
   ]
  },
  {
   "cell_type": "code",
   "execution_count": null,
   "metadata": {},
   "outputs": [],
   "source": []
  }
 ],
 "metadata": {
  "kernelspec": {
   "display_name": "venv",
   "language": "python",
   "name": "python3"
  },
  "language_info": {
   "codemirror_mode": {
    "name": "ipython",
    "version": 3
   },
   "file_extension": ".py",
   "mimetype": "text/x-python",
   "name": "python",
   "nbconvert_exporter": "python",
   "pygments_lexer": "ipython3",
   "version": "3.11.11"
  }
 },
 "nbformat": 4,
 "nbformat_minor": 2
}
